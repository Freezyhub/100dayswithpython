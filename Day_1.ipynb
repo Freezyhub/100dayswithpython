{
 "cells": [
  {
   "cell_type": "markdown",
   "metadata": {},
   "source": [
    "String Manipulation"
   ]
  },
  {
   "cell_type": "code",
   "execution_count": 6,
   "metadata": {},
   "outputs": [
    {
     "name": "stdout",
     "output_type": "stream",
     "text": [
      "hello world!\n"
     ]
    }
   ],
   "source": [
    "print(\"hello world!\")"
   ]
  },
  {
   "cell_type": "code",
   "execution_count": 7,
   "metadata": {},
   "outputs": [
    {
     "name": "stdout",
     "output_type": "stream",
     "text": [
      "hello world!\n",
      "hello world!\n",
      "hello world!\n"
     ]
    }
   ],
   "source": [
    "#if you have multiple string to be printed on different lines, instead of using multiple print statement, \n",
    "# you can use a \\n after each sentence with no space after the n\n",
    "\n",
    "print(\"hello world!\\nhello world!\\nhello world!\")"
   ]
  },
  {
   "cell_type": "code",
   "execution_count": 8,
   "metadata": {},
   "outputs": [
    {
     "name": "stdout",
     "output_type": "stream",
     "text": [
      "HelloAfeez\n",
      "Hello Afeez\n",
      "Hello Afeez\n",
      "Hello Afeez\n"
     ]
    }
   ],
   "source": [
    "#strings can be manipulated by concatenating using +\n",
    "print(\"Hello\" + \"Afeez\")\n",
    "print(\"Hello\" + \" \" + \"Afeez\")\n",
    "print(\"Hello \" + \"Afeez\")\n",
    "print(\"Hello\" + \" Afeez\")"
   ]
  },
  {
   "cell_type": "code",
   "execution_count": null,
   "metadata": {},
   "outputs": [
    {
     "name": "stdout",
     "output_type": "stream",
     "text": [
      "Hello afeez!\n"
     ]
    }
   ],
   "source": [
    "# how to collect data using input() function\n",
    "\n",
    "print(\"Hello \" + input(\"what is your name\") + \"!\")"
   ]
  },
  {
   "cell_type": "code",
   "execution_count": 11,
   "metadata": {},
   "outputs": [
    {
     "name": "stdout",
     "output_type": "stream",
     "text": [
      "Afeez\n"
     ]
    }
   ],
   "source": [
    "# Assigning variable\n",
    "Name = input(\"what is your name\")\n",
    "print(Name)"
   ]
  }
 ],
 "metadata": {
  "kernelspec": {
   "display_name": "Python 3",
   "language": "python",
   "name": "python3"
  },
  "language_info": {
   "codemirror_mode": {
    "name": "ipython",
    "version": 3
   },
   "file_extension": ".py",
   "mimetype": "text/x-python",
   "name": "python",
   "nbconvert_exporter": "python",
   "pygments_lexer": "ipython3",
   "version": "3.13.1"
  }
 },
 "nbformat": 4,
 "nbformat_minor": 2
}
