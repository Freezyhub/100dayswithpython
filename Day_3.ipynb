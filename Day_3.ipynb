{
 "cells": [
  {
   "cell_type": "code",
   "execution_count": 1,
   "metadata": {},
   "outputs": [
    {
     "name": "stdout",
     "output_type": "stream",
     "text": [
      "normal weight\n"
     ]
    }
   ],
   "source": [
    "weight = 85\n",
    "height = 1.85\n",
    "\n",
    "bmi = weight / (height ** 2)\n",
    "\n",
    "# 🚨 Do not modify the values above\n",
    "# Write your code below 👇\n",
    "\n",
    "if bmi < 18.5:\n",
    "    print(\"underweight\")\n",
    "elif  18.5 <= bmi < 25:\n",
    "    print(\"normal weight\")\n",
    "else:\n",
    "    print(\"overweight\")"
   ]
  },
  {
   "cell_type": "code",
   "execution_count": 14,
   "metadata": {},
   "outputs": [
    {
     "name": "stdout",
     "output_type": "stream",
     "text": [
      "Welcome to Python Pizza Deliveries!\n",
      "what size of pizza do you want? : M\n",
      "Your medium size pizza price is 20\n",
      "Do you want pepperoni on your pizza? Y \n",
      "Do you want pepperoni on your pizza? N \n",
      "Your bill is $23.\n"
     ]
    }
   ],
   "source": [
    "print(\"Welcome to Python Pizza Deliveries!\")\n",
    "size = input(\"what size of pizza do you want? S, M or L:\")\n",
    "print(f\"what size of pizza do you want? : {size}\")\n",
    "bill = 0\n",
    "\n",
    "if size == \"S\":\n",
    "    bill = 15 \n",
    "    print(f\"Your small size pizza price is {bill}\")\n",
    "elif size == \"M\":\n",
    "    bill = 20\n",
    "    print(f\"Your medium size pizza price is {bill}\")\n",
    "elif size == \"L\":\n",
    "    bill = 25\n",
    "    print(f\"Your large pizza price is {bill}\")\n",
    "else:\n",
    "    print(\"You have selected a wrong size\")\n",
    "\n",
    "want_pepperoni = input(\"Do you want pepperoni on your pizza? Y or N\")\n",
    "print(f\"Do you want pepperoni on your pizza? {want_pepperoni} \") \n",
    "if want_pepperoni == \"Y\":\n",
    "    if size == \"S\":\n",
    "        bill +=2\n",
    "    else:\n",
    "        bill +=3\n",
    "\n",
    "extra_cheese = input(\"Do you want cheese on your pizza? Y or N\")\n",
    "print(f\"Do you want pepperoni on your pizza? {extra_cheese} \") \n",
    "if extra_cheese == \"Y\":\n",
    "    bill +=1\n",
    "\n",
    "print(f\"Your bill is ${bill}.\")"
   ]
  }
 ],
 "metadata": {
  "kernelspec": {
   "display_name": "Python 3",
   "language": "python",
   "name": "python3"
  },
  "language_info": {
   "codemirror_mode": {
    "name": "ipython",
    "version": 3
   },
   "file_extension": ".py",
   "mimetype": "text/x-python",
   "name": "python",
   "nbconvert_exporter": "python",
   "pygments_lexer": "ipython3",
   "version": "3.13.1"
  }
 },
 "nbformat": 4,
 "nbformat_minor": 2
}
