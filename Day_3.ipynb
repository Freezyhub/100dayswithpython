{
 "cells": [
  {
   "cell_type": "code",
   "execution_count": 1,
   "metadata": {},
   "outputs": [
    {
     "name": "stdout",
     "output_type": "stream",
     "text": [
      "normal weight\n"
     ]
    }
   ],
   "source": [
    "weight = 85\n",
    "height = 1.85\n",
    "\n",
    "bmi = weight / (height ** 2)\n",
    "\n",
    "# 🚨 Do not modify the values above\n",
    "# Write your code below 👇\n",
    "\n",
    "if bmi < 18.5:\n",
    "    print(\"underweight\")\n",
    "elif  18.5 <= bmi < 25:\n",
    "    print(\"normal weight\")\n",
    "else:\n",
    "    print(\"overweight\")"
   ]
  },
  {
   "cell_type": "code",
   "execution_count": 14,
   "metadata": {},
   "outputs": [
    {
     "name": "stdout",
     "output_type": "stream",
     "text": [
      "Welcome to Python Pizza Deliveries!\n",
      "what size of pizza do you want? : M\n",
      "Your medium size pizza price is 20\n",
      "Do you want pepperoni on your pizza? Y \n",
      "Do you want pepperoni on your pizza? N \n",
      "Your bill is $23.\n"
     ]
    }
   ],
   "source": [
    "print(\"Welcome to Python Pizza Deliveries!\")\n",
    "size = input(\"what size of pizza do you want? S, M or L:\")\n",
    "print(f\"what size of pizza do you want? : {size}\")\n",
    "bill = 0\n",
    "\n",
    "if size == \"S\":\n",
    "    bill = 15 \n",
    "    print(f\"Your small size pizza price is {bill}\")\n",
    "elif size == \"M\":\n",
    "    bill = 20\n",
    "    print(f\"Your medium size pizza price is {bill}\")\n",
    "elif size == \"L\":\n",
    "    bill = 25\n",
    "    print(f\"Your large pizza price is {bill}\")\n",
    "else:\n",
    "    print(\"You have selected a wrong size\")\n",
    "\n",
    "want_pepperoni = input(\"Do you want pepperoni on your pizza? Y or N\")\n",
    "print(f\"Do you want pepperoni on your pizza? {want_pepperoni} \") \n",
    "if want_pepperoni == \"Y\":\n",
    "    if size == \"S\":\n",
    "        bill +=2\n",
    "    else:\n",
    "        bill +=3\n",
    "\n",
    "extra_cheese = input(\"Do you want cheese on your pizza? Y or N\")\n",
    "print(f\"Do you want pepperoni on your pizza? {extra_cheese} \") \n",
    "if extra_cheese == \"Y\":\n",
    "    bill +=1\n",
    "\n",
    "print(f\"Your bill is ${bill}.\")"
   ]
  },
  {
   "cell_type": "markdown",
   "metadata": {},
   "source": [
    "Logical Operators"
   ]
  },
  {
   "cell_type": "code",
   "execution_count": null,
   "metadata": {},
   "outputs": [],
   "source": [
    "# A and B = both condition must be true\n",
    "# C or D = either of the condition must be true\n",
    "# not E = The condition must be false."
   ]
  },
  {
   "cell_type": "code",
   "execution_count": 8,
   "metadata": {},
   "outputs": [
    {
     "name": "stdout",
     "output_type": "stream",
     "text": [
      "welcome to the rollercoster\n",
      "Your height is 123.0\n",
      "You can ride the rollercoaster\n",
      "Your age is 52\n",
      "Your ticket fee is on us, enjoy your ride\n",
      "Do you want photo taken?\n",
      "Do you want photo taken? Y\n",
      "Your final bill is $3\n"
     ]
    }
   ],
   "source": [
    "# rollercoster charges calculator\n",
    "print(\"welcome to the rollercoster\")\n",
    "height = float(input(\"what is your height in cm?\"))\n",
    "print(f\"Your height is {height}\")\n",
    "bill = 0\n",
    "\n",
    "if height >= 120:\n",
    "    print(\"You can ride the rollercoaster\")\n",
    "    age = int(input(\"What is your age\"))\n",
    "    print(f\"Your age is {age}\")\n",
    "    if age < 12:\n",
    "        bill = 5\n",
    "        print(\"child ticket is $5\")\n",
    "    elif age <= 18:\n",
    "        bill = 7\n",
    "        print(\"Youth ticket is $7\")\n",
    "    elif age >= 45 and age <= 55:  #this can also be written as 45 >= age <= 55\n",
    "        print(\"Your ticket fee is on us, enjoy your ride\")\n",
    "    else:\n",
    "        bill = 12\n",
    "        print(\"Adult ticket is 12 \")\n",
    "    want_photo = input(\"Do you want photo taken? Y or N\") \n",
    "    print(f\"Do you want photo taken? {want_photo}\")\n",
    "    if want_photo == \"Y\":\n",
    "        bill += 3\n",
    "    \n",
    "    print(f\"Your final bill is ${bill}\")\n",
    "\n",
    "else:\n",
    "    print(\"we are sorry to inform you that you cannot ride the rollercoater untill you grow taller\")"
   ]
  },
  {
   "cell_type": "markdown",
   "metadata": {},
   "source": [
    "<span style= \"color:green\">Treasure Island Project</span>"
   ]
  },
  {
   "cell_type": "code",
   "execution_count": 4,
   "metadata": {},
   "outputs": [
    {
     "ename": "SyntaxError",
     "evalue": "(unicode error) 'unicodeescape' codec can't decode bytes in position 375-376: truncated \\UXXXXXXXX escape (197578091.py, line 1)",
     "output_type": "error",
     "traceback": [
      "\u001b[1;36m  Cell \u001b[1;32mIn[4], line 1\u001b[1;36m\u001b[0m\n\u001b[1;33m    print('''\u001b[0m\n\u001b[1;37m          ^\u001b[0m\n\u001b[1;31mSyntaxError\u001b[0m\u001b[1;31m:\u001b[0m (unicode error) 'unicodeescape' codec can't decode bytes in position 375-376: truncated \\UXXXXXXXX escape\n"
     ]
    }
   ],
   "source": [
    "print('''\n",
    "                            _.--.\n",
    "                        _.-'_:-'||\n",
    "                    _.-'_.-::::'||\n",
    "               _.-:'_.-::::::'  ||\n",
    "             .'`-.-:::::::'     ||\n",
    "            /.'`;|:::::::'      ||_\n",
    "           ||   ||::::::'     _.;._'-._\n",
    "           ||   ||:::::'  _.-!oo @.!-._'-.\n",
    "           \\'.  ||:::::.-!()oo @!()@.-'_.|\n",
    "            '.'-;|:.-'.&$@.& ()$%-'o.'\\U||\n",
    "              `>'-.!@%()@'@_%-'_.-o _.|'||\n",
    "               ||-._'-.@.-'_.-' _.-o  |'||\n",
    "               ||=[ '-._.-\\U/.-'    o |'||\n",
    "               || '-.]=|| |'|      o  |'||\n",
    "               ||      || |'|        _| ';\n",
    "               ||      || |'|    _.-'_.-'\n",
    "               |'-._   || |'|_.-'_.-'\n",
    "            jgs '-._'-.|| |' `_.-'\n",
    "                    '-.||_/.-'\n",
    "      ''')\n"
   ]
  },
  {
   "cell_type": "code",
   "execution_count": 8,
   "metadata": {},
   "outputs": [
    {
     "name": "stdout",
     "output_type": "stream",
     "text": [
      "Welcome to Treasure Island.\n",
      "Your mission is to find the treasure\n",
      "you've selected to go left\n",
      "you've decided to wait\n",
      "you've opened the yellow door\n",
      "Congratulations, you've found the treasure\n"
     ]
    }
   ],
   "source": [
    "\n",
    "print(\"Welcome to Treasure Island.\\nYour mission is to find the treasure\")\n",
    "\n",
    "step1 = input('you\\'re to choose to go either left by typing \"left\" '\n",
    "              'or go right by typing \"right\" ').lower()\n",
    "print(f\"you've selected to go {step1}\")\n",
    "if step1 == \"left\":\n",
    "    step2 = input('You\\'ve found yourself at a riverbank across the treasure island,'\n",
    "                  'would you type \"swim\" to swim to the treasure island or you '\n",
    "                  'type \"wait\" to wait for help').lower()\n",
    "    print(f\"you've decided to {step2}\")\n",
    "    if step2 == \"wait\":\n",
    "        step3 = input('you\\'ve landed on the treasure island, there are 3 doors, type \"red\" '\n",
    "                      'to select the red door, type \"blue\" to select the blue door'\n",
    "                      'and type \"yellow\" to select the yellow door').lower()\n",
    "        print(f\"you've opened the {step3} door\")\n",
    "        if step3 == \"red\":\n",
    "            print(\"You\\'ve been attacked by a beast.\\nGame Over\")\n",
    "        elif step3 == \"blue\":\n",
    "            print(\"You\\'ve been bitting by spiders.\\nGame Over\")\n",
    "        elif step3 == \"yellow\":\n",
    "            print(\"Congratulations, you've found the treasure\")\n",
    "        else:\n",
    "            print(\"The room selected is not available\")\n",
    "    else:\n",
    "        print(\"Wrong move, you've been attacked by a dragon.\\nGame Over\")\n",
    "\n",
    "else:\n",
    "    print(\"you have landed in a dungeon.\\nGame Over\")"
   ]
  }
 ],
 "metadata": {
  "kernelspec": {
   "display_name": "Python 3",
   "language": "python",
   "name": "python3"
  },
  "language_info": {
   "codemirror_mode": {
    "name": "ipython",
    "version": 3
   },
   "file_extension": ".py",
   "mimetype": "text/x-python",
   "name": "python",
   "nbconvert_exporter": "python",
   "pygments_lexer": "ipython3",
   "version": "3.13.1"
  }
 },
 "nbformat": 4,
 "nbformat_minor": 2
}
