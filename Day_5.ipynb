{
 "cells": [
  {
   "cell_type": "markdown",
   "metadata": {},
   "source": [
    "<span style='color:yellow'>LOOPS</span>"
   ]
  },
  {
   "cell_type": "code",
   "execution_count": 1,
   "metadata": {},
   "outputs": [
    {
     "name": "stdout",
     "output_type": "stream",
     "text": [
      "150\n",
      "292\n",
      "477\n",
      "597\n",
      "768\n",
      "952\n",
      "1101\n",
      "1125\n",
      "1184\n",
      "1252\n",
      "1451\n",
      "1529\n",
      "1594\n",
      "1683\n",
      "1769\n"
     ]
    }
   ],
   "source": [
    "#FOR LOOPS AND LIST\n",
    "\n",
    "student_scores = [150, 142, 185, 120, 171, 184, 149, 24, 59, 68, 199, 78, 65, 89, 86]\n",
    "\n",
    "sum = 0\n",
    "for score in student_scores:\n",
    "    sum += score\n",
    "    print(sum)\n",
    "\n"
   ]
  },
  {
   "cell_type": "code",
   "execution_count": 8,
   "metadata": {},
   "outputs": [
    {
     "name": "stdout",
     "output_type": "stream",
     "text": [
      "199\n"
     ]
    }
   ],
   "source": [
    "student_scores = [150, 142, 185, 120, 171, 184, 149, 24, 59, 68, 199, 78, 65, 89, 86, 55, 91, 64, 89]\n",
    "\n",
    "max_score = 0\n",
    "for score in student_scores:\n",
    "    if score >= max_score:\n",
    "        max_score = score\n",
    "print(max_score)"
   ]
  },
  {
   "cell_type": "code",
   "execution_count": 19,
   "metadata": {},
   "outputs": [
    {
     "name": "stdout",
     "output_type": "stream",
     "text": [
      "5050\n"
     ]
    }
   ],
   "source": [
    "#LOOP AND RANGE\n",
    "# task is to add all the numbers from 1-100\n",
    "\n",
    "total = 0\n",
    "for number in range(1,101):\n",
    "    total += number\n",
    "print(total)\n",
    "\n"
   ]
  },
  {
   "cell_type": "code",
   "execution_count": 29,
   "metadata": {},
   "outputs": [
    {
     "name": "stdout",
     "output_type": "stream",
     "text": [
      "1\n",
      "2\n",
      "Fizz\n",
      "4\n",
      "Buzz\n",
      "Fizz\n",
      "7\n",
      "8\n",
      "Fizz\n",
      "Buzz\n",
      "11\n",
      "Fizz\n",
      "13\n",
      "14\n",
      "FizzBuzz\n",
      "16\n",
      "17\n",
      "Fizz\n",
      "19\n",
      "Buzz\n",
      "Fizz\n",
      "22\n",
      "23\n",
      "Fizz\n",
      "Buzz\n",
      "26\n",
      "Fizz\n",
      "28\n",
      "29\n",
      "FizzBuzz\n"
     ]
    }
   ],
   "source": [
    "#you are going to write a program that automatically prints the solution to the FizzBuzz game. \n",
    "# These are the rules of the FizzBuzz game:\n",
    "#Your program should print each number from 1 to 100 in turn and include number 100.\n",
    "#But when the number is divisible by 3 then instead of printing the number it should print \"Fizz\".\n",
    "#When the number is divisible by 5, then instead of printing the number it should print \"Buzz\".`\n",
    "#And if the number is divisible by both 3 and 5 e.g. 15 then instead of the number it should print \"FizzBuzz\"\n",
    "\n",
    "\n",
    "for number in range(1,31):\n",
    "    if number % 3 == 0 and number % 5 == 0:\n",
    "        print('FizzBuzz')\n",
    "    elif number % 3 == 0:\n",
    "        print('Fizz')\n",
    "    elif number % 5 == 0:\n",
    "        print('Buzz') \n",
    "    else:\n",
    "        print(number)\n"
   ]
  },
  {
   "cell_type": "code",
   "execution_count": 121,
   "metadata": {},
   "outputs": [
    {
     "name": "stdout",
     "output_type": "stream",
     "text": [
      "Welcome to the FreezyPassword Generator!\n",
      "your password is : VMtcXZo#%)#160\n"
     ]
    }
   ],
   "source": [
    "#Password Generator Project\n",
    "import random\n",
    "letters = ['a', 'b', 'c', 'd', 'e', 'f', 'g', 'h', 'i', 'j', 'k', 'l', 'm', 'n', 'o', 'p', 'q', 'r', 's', 't', 'u', 'v', 'w', 'x', 'y', 'z', 'A', 'B', 'C', 'D', 'E', 'F', 'G', 'H', 'I', 'J', 'K', 'L', 'M', 'N', 'O', 'P', 'Q', 'R', 'S', 'T', 'U', 'V', 'W', 'X', 'Y', 'Z']\n",
    "numbers = ['0', '1', '2', '3', '4', '5', '6', '7', '8', '9']\n",
    "symbols = ['!', '#', '$', '%', '&', '(', ')', '*', '+']\n",
    "\n",
    "print(\"Welcome to the FreezyPassword Generator!\")\n",
    "selected_letters = int(input('how many letters do you want in the password'))\n",
    "selected_symbols = int(input('how many symbols do you want in the password'))\n",
    "selected_numbers = int(input('how many numbers do you want in the password'))\n",
    "\n",
    "#Eazy Level - Order not randomised:\n",
    "#e.g. 4 letter, 2 symbol, 2 number = JduE&!91\n",
    "letter_choice = random.choices(letters, k=selected_letters)\n",
    "symbol_choice = random.choices(symbols, k=selected_symbols)\n",
    "number_choice = random.choices(numbers, k=selected_numbers)\n",
    "pass_pt = (letter_choice + symbol_choice + number_choice )\n",
    "pass_prt = ''.join(pass_pt)\n",
    "print(f'your password is : {pass_prt}')\n",
    "\n"
   ]
  },
  {
   "cell_type": "code",
   "execution_count": 123,
   "metadata": {},
   "outputs": [
    {
     "name": "stdout",
     "output_type": "stream",
     "text": [
      "Welcome to the FreezyPassword Generator!\n",
      "MqtpgxnJt%%(!$+&+#&96\n"
     ]
    }
   ],
   "source": [
    "#OR\n",
    "\n",
    "#Password Generator Project\n",
    "import random\n",
    "letters = ['a', 'b', 'c', 'd', 'e', 'f', 'g', 'h', 'i', 'j', 'k', 'l', 'm', 'n', 'o', 'p', 'q', 'r', 's', 't', 'u', 'v', 'w', 'x', 'y', 'z', 'A', 'B', 'C', 'D', 'E', 'F', 'G', 'H', 'I', 'J', 'K', 'L', 'M', 'N', 'O', 'P', 'Q', 'R', 'S', 'T', 'U', 'V', 'W', 'X', 'Y', 'Z']\n",
    "numbers = ['0', '1', '2', '3', '4', '5', '6', '7', '8', '9']\n",
    "symbols = ['!', '#', '$', '%', '&', '(', ')', '*', '+']\n",
    "\n",
    "print(\"Welcome to the FreezyPassword Generator!\")\n",
    "selected_letters = int(input('how many letters do you want in the password'))\n",
    "selected_symbols = int(input('how many symbols do you want in the password'))\n",
    "selected_numbers = int(input('how many numbers do you want in the password'))\n",
    "\n",
    "password = ''\n",
    "#Eazy Level - Order not randomised:\n",
    "#e.g. 4 letter, 2 symbol, 2 number = JduE&!91\n",
    "for char in range(0, selected_letters):\n",
    "    password += random.choice(letters)\n",
    "\n",
    "for char in range(0, selected_symbols):\n",
    "    password += random.choice(symbols)\n",
    "\n",
    "for char in range(0, selected_numbers):\n",
    "    password += random.choice(numbers)\n",
    "\n",
    "print(password)\n",
    "\n"
   ]
  },
  {
   "cell_type": "code",
   "execution_count": 118,
   "metadata": {},
   "outputs": [
    {
     "name": "stdout",
     "output_type": "stream",
     "text": [
      "Welcome to the FreezyPassword Generator!\n",
      "your password is : 1#v#()830$D\n"
     ]
    }
   ],
   "source": [
    "#Hard Level - Order of characters randomised:\n",
    "#e.g. 4 letter, 2 symbol, 2 number = g^2jk8&P\n",
    "#Password Generator Project\n",
    "import random\n",
    "letters = ['a', 'b', 'c', 'd', 'e', 'f', 'g', 'h', 'i', 'j', 'k', 'l', 'm', 'n', 'o', 'p', 'q', 'r', 's', 't', 'u', 'v', 'w', 'x', 'y', 'z', 'A', 'B', 'C', 'D', 'E', 'F', 'G', 'H', 'I', 'J', 'K', 'L', 'M', 'N', 'O', 'P', 'Q', 'R', 'S', 'T', 'U', 'V', 'W', 'X', 'Y', 'Z']\n",
    "numbers = ['0', '1', '2', '3', '4', '5', '6', '7', '8', '9']\n",
    "symbols = ['!', '#', '$', '%', '&', '(', ')', '*', '+']\n",
    "password_list = []\n",
    "\n",
    "\n",
    "print(\"Welcome to the FreezyPassword Generator!\")\n",
    "selected_letters = int(input('how many letters do you want in the password'))\n",
    "selected_symbols = int(input('how many symbols do you want in the password'))\n",
    "selected_numbers = int(input('how many numbers do you want in the password'))\n",
    "\n",
    "for char in range(0, selected_letters):\n",
    "    password_list.append(random.choice(letters))\n",
    "\n",
    "for char in range(0, selected_symbols):\n",
    "    password_list.append(random.choice(symbols))\n",
    "\n",
    "for char in range(0, selected_numbers):\n",
    "    password_list.append(random.choice(numbers))\n",
    "\n",
    "password_shuf = random.shuffle(password_list)\n",
    "\n",
    "final_password = ''\n",
    "\n",
    "for char in password_list:\n",
    "    final_password += char\n",
    "print(f'your password is : {final_password}')\n"
   ]
  }
 ],
 "metadata": {
  "kernelspec": {
   "display_name": "Python 3",
   "language": "python",
   "name": "python3"
  },
  "language_info": {
   "codemirror_mode": {
    "name": "ipython",
    "version": 3
   },
   "file_extension": ".py",
   "mimetype": "text/x-python",
   "name": "python",
   "nbconvert_exporter": "python",
   "pygments_lexer": "ipython3",
   "version": "3.13.1"
  }
 },
 "nbformat": 4,
 "nbformat_minor": 2
}
