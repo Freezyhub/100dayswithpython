{
 "cells": [
  {
   "cell_type": "markdown",
   "metadata": {},
   "source": [
    "<span style = 'color:red'> FUCTIONS </span>"
   ]
  },
  {
   "cell_type": "code",
   "execution_count": 1,
   "metadata": {},
   "outputs": [
    {
     "name": "stdout",
     "output_type": "stream",
     "text": [
      "hello\n",
      "Hi\n"
     ]
    }
   ],
   "source": [
    "#There are several function that already exist in python such as print, len, random etc, however we can create our own functions\n",
    "\n",
    "def my_function():       #here we have created a function called my_function\n",
    "    print('hello')\n",
    "    print('Hi')\n",
    "\n",
    "my_function()       # the function is called in this manner \n",
    "\n"
   ]
  },
  {
   "cell_type": "code",
   "execution_count": null,
   "metadata": {},
   "outputs": [],
   "source": [
    "# use of while and def function\n",
    "\n",
    "def jump():\n",
    "    move()\n",
    "    turn_left()\n",
    "\n",
    "\n",
    "while at_goal != True:\n",
    "    if wall_in_front():\n",
    "        jump()\n",
    "    else:\n",
    "        move()\n"
   ]
  }
 ],
 "metadata": {
  "kernelspec": {
   "display_name": "Python 3",
   "language": "python",
   "name": "python3"
  },
  "language_info": {
   "codemirror_mode": {
    "name": "ipython",
    "version": 3
   },
   "file_extension": ".py",
   "mimetype": "text/x-python",
   "name": "python",
   "nbconvert_exporter": "python",
   "pygments_lexer": "ipython3",
   "version": "3.13.1"
  }
 },
 "nbformat": 4,
 "nbformat_minor": 2
}
