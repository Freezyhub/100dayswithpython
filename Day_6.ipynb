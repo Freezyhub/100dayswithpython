{
 "cells": [
  {
   "cell_type": "markdown",
   "metadata": {},
   "source": [
    "<span style = 'color:red'> FUCTIONS </span>"
   ]
  },
  {
   "cell_type": "code",
   "execution_count": 1,
   "metadata": {},
   "outputs": [
    {
     "name": "stdout",
     "output_type": "stream",
     "text": [
      "hello\n",
      "Hi\n"
     ]
    }
   ],
   "source": [
    "#There are several function that already exist in python such as print, len, random etc, however we can create our own functions\n",
    "\n",
    "def my_function():       #here we have created a function called my_function\n",
    "    print('hello')\n",
    "    print('Hi')\n",
    "\n",
    "my_function()       # the function is called in this manner \n",
    "\n"
   ]
  },
  {
   "cell_type": "code",
   "execution_count": null,
   "metadata": {},
   "outputs": [],
   "source": [
    "# use of while and def function\n",
    "# for uniform wall height\n",
    "\n",
    "def jump():\n",
    "    move()\n",
    "    turn_left()\n",
    "\n",
    "\n",
    "while at_goal != True:\n",
    "    if wall_in_front():\n",
    "        jump()\n",
    "    else:\n",
    "        move()\n",
    "\n",
    "#For varying wall height\n",
    "\n",
    "def jump():\n",
    "    turn_left()\n",
    "    while wall_on_right():\n",
    "        move()\n",
    "    turn-right()\n",
    "    move()\n",
    "    turn_right()\n",
    "    while front_is_clear():\n",
    "        move()\n",
    "    turn_left()\n",
    "\n",
    "while not at_goal():\n",
    "    if wall_in_front():\n",
    "        jump()\n",
    "    else:\n",
    "        move()\n"
   ]
  },
  {
   "cell_type": "code",
   "execution_count": null,
   "metadata": {},
   "outputs": [],
   "source": [
    "#Lost in a maze\n",
    "#Reeborg was exploring a dark maze and the battery in its flashlight ran out.\n",
    "#Write a program using an if/elif/else statement so Reeborg can find the exit. The secret is to have Reeborg follow along the right edge of the maze, turning right if it can, going straight ahead if it can’t turn right, or turning left as a last resort.\n",
    "\n",
    "#What you need to know\n",
    "#The functions move() and turn_left().\n",
    "#Either the test front_is_clear() or wall_in_front(), right_is_clear() or wall_on_right(), and at_goal().\n",
    "#How to use a while loop and if/elif/else statements.\n",
    "#It might be useful to know how to use the negation of a test (not in Python).\n",
    "#Difficulty level\n",
    "\n",
    "def turn_right():\n",
    "    turn_left()\n",
    "    turn_left()\n",
    "    turn_left()\n",
    "    \n",
    "while not at_goal():\n",
    "    if right_is_clear():\n",
    "        turn_right()\n",
    "        move()\n",
    "    elif front_is_clear():\n",
    "        move()\n",
    "    else:\n",
    "        turn_left()"
   ]
  }
 ],
 "metadata": {
  "kernelspec": {
   "display_name": "Python 3",
   "language": "python",
   "name": "python3"
  },
  "language_info": {
   "codemirror_mode": {
    "name": "ipython",
    "version": 3
   },
   "file_extension": ".py",
   "mimetype": "text/x-python",
   "name": "python",
   "nbconvert_exporter": "python",
   "pygments_lexer": "ipython3",
   "version": "3.13.1"
  }
 },
 "nbformat": 4,
 "nbformat_minor": 2
}
