{
 "cells": [
  {
   "cell_type": "code",
   "execution_count": 52,
   "metadata": {},
   "outputs": [
    {
     "name": "stdout",
     "output_type": "stream",
     "text": [
      "care\n",
      "c---\n",
      "c--e\n",
      "c-re\n",
      "c-re\n",
      "care\n",
      "care\n",
      "care\n",
      "care\n",
      "care\n",
      "care\n"
     ]
    }
   ],
   "source": [
    "# HANGMAN GAME\n",
    "\n",
    "import random\n",
    "\n",
    "#list of words\n",
    "word_list = ['ballon', 'aeroplane', 'fantastic', 'read', 'care', 'category', 'comb']\n",
    "\n",
    "#selected random words from the list\n",
    "rand_word = random.choice(word_list)\n",
    "print(rand_word)\n",
    "\n",
    "#calculate the length of the random word selected\n",
    "word_len = len(rand_word)\n",
    "\n",
    "#variable called placeholder created and each letter from\n",
    "#from the rand_word is replaced by -\n",
    "placeholder = \"\"\n",
    "for location in range(word_len):\n",
    "    placeholder += \"-\"\n",
    "game_over = False\n",
    "correct_letter = []\n",
    "\n",
    "while not game_over:\n",
    "    #collect guess letter from the user\n",
    "    guess_let = input('The word equal number of letters as - in the world.'\n",
    "                  ' Make your first guess').lower()\n",
    "\n",
    "    display = ''\n",
    "    for letter in rand_word:\n",
    "        if letter == guess_let:\n",
    "            display += letter\n",
    "            correct_letter.append(guess_let)\n",
    "        elif letter in correct_letter:\n",
    "            display += letter\n",
    "        else:\n",
    "            display += '-'\n",
    "    \n",
    "    print(display)\n",
    "\n",
    "\n",
    "\n"
   ]
  }
 ],
 "metadata": {
  "kernelspec": {
   "display_name": "Python 3",
   "language": "python",
   "name": "python3"
  },
  "language_info": {
   "codemirror_mode": {
    "name": "ipython",
    "version": 3
   },
   "file_extension": ".py",
   "mimetype": "text/x-python",
   "name": "python",
   "nbconvert_exporter": "python",
   "pygments_lexer": "ipython3",
   "version": "3.13.1"
  }
 },
 "nbformat": 4,
 "nbformat_minor": 2
}
