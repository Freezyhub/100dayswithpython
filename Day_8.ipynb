{
 "cells": [
  {
   "cell_type": "markdown",
   "metadata": {},
   "source": [
    "<span style = \"color : orange\">Functions and Input</span>"
   ]
  },
  {
   "cell_type": "code",
   "execution_count": 2,
   "metadata": {},
   "outputs": [
    {
     "name": "stdout",
     "output_type": "stream",
     "text": [
      "Hello\n",
      "how can we be of help today\n",
      "Are satisfied with our service\n"
     ]
    }
   ],
   "source": [
    "#TASK\n",
    "#Create a function called greet().\n",
    "#Write 3 print statements inside the function.\n",
    "#Call the greet() function and run your code.\n",
    "#The function created at this stage is static\n",
    "\n",
    "def greet():\n",
    "    print(\"Hello\")\n",
    "    print(\"how can we be of help today\")\n",
    "    print(\"Are satisfied with our service\")\n",
    "\n",
    "greet()"
   ]
  },
  {
   "cell_type": "code",
   "execution_count": 3,
   "metadata": {},
   "outputs": [
    {
     "name": "stdout",
     "output_type": "stream",
     "text": [
      "Hello temilade\n",
      "how can we be of help today temilade?\n",
      "Are satisfied with our service temilade?\n"
     ]
    }
   ],
   "source": [
    "#The function created at this stage is dynamic by providing an argument to replace the parameter \n",
    "def greet_with_name(name):          #The name (name) is called PARAMETER\n",
    "    print(f\"Hello {name}\")\n",
    "    print(f\"how can we be of help today {name}?\")\n",
    "    print(f\"Are satisfied with our service {name}?\")\n",
    "\n",
    "greet_with_name(\"temilade\")         #The temilade at this stage is called ARGUMENT"
   ]
  }
 ],
 "metadata": {
  "kernelspec": {
   "display_name": "Python 3",
   "language": "python",
   "name": "python3"
  },
  "language_info": {
   "codemirror_mode": {
    "name": "ipython",
    "version": 3
   },
   "file_extension": ".py",
   "mimetype": "text/x-python",
   "name": "python",
   "nbconvert_exporter": "python",
   "pygments_lexer": "ipython3",
   "version": "3.13.1"
  }
 },
 "nbformat": 4,
 "nbformat_minor": 2
}
