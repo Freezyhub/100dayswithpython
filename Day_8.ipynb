{
 "cells": [
  {
   "cell_type": "markdown",
   "metadata": {},
   "source": [
    "<span style = \"color : orange\">Functions and Input</span>"
   ]
  },
  {
   "cell_type": "code",
   "execution_count": 2,
   "metadata": {},
   "outputs": [
    {
     "name": "stdout",
     "output_type": "stream",
     "text": [
      "Hello\n",
      "how can we be of help today\n",
      "Are satisfied with our service\n"
     ]
    }
   ],
   "source": [
    "#TASK\n",
    "#Create a function called greet().\n",
    "#Write 3 print statements inside the function.\n",
    "#Call the greet() function and run your code.\n",
    "#The function created at this stage is static\n",
    "\n",
    "def greet():\n",
    "    print(\"Hello\")\n",
    "    print(\"how can we be of help today\")\n",
    "    print(\"Are satisfied with our service\")\n",
    "\n",
    "greet()"
   ]
  },
  {
   "cell_type": "code",
   "execution_count": 3,
   "metadata": {},
   "outputs": [
    {
     "name": "stdout",
     "output_type": "stream",
     "text": [
      "Hello temilade\n",
      "how can we be of help today temilade?\n",
      "Are satisfied with our service temilade?\n"
     ]
    }
   ],
   "source": [
    "#The function created at this stage is dynamic by providing an argument to replace the parameter \n",
    "def greet_with_name(name):          #The name (name) is called PARAMETER\n",
    "    print(f\"Hello {name}\")\n",
    "    print(f\"how can we be of help today {name}?\")\n",
    "    print(f\"Are satisfied with our service {name}?\")\n",
    "\n",
    "greet_with_name(\"temilade\")         #The temilade at this stage is called ARGUMENT"
   ]
  },
  {
   "cell_type": "code",
   "execution_count": 13,
   "metadata": {},
   "outputs": [
    {
     "name": "stdout",
     "output_type": "stream",
     "text": [
      "You have 2600 weeks left.\n"
     ]
    }
   ],
   "source": [
    "#function with an input\n",
    "def life_in_weeks(age):\n",
    "    years_remaining = 90 - age\n",
    "    weeks_remaining = years_remaining * 52\n",
    "    print(f\"You have {weeks_remaining} weeks left.\")\n",
    " \n",
    " \n",
    "life_in_weeks(40)"
   ]
  },
  {
   "cell_type": "code",
   "execution_count": 16,
   "metadata": {},
   "outputs": [
    {
     "name": "stdout",
     "output_type": "stream",
     "text": [
      "hello seun\n",
      "how is it like in nigeria\n"
     ]
    }
   ],
   "source": [
    "#function with more than one input\n",
    "def greet_with(name, location):\n",
    "    print(f\"hello {name}\")\n",
    "    print(f\"how is it like in {location}\")\n",
    "\n",
    "greet_with(\"seun\", \"nigeria\")"
   ]
  },
  {
   "cell_type": "code",
   "execution_count": 1,
   "metadata": {},
   "outputs": [
    {
     "name": "stdout",
     "output_type": "stream",
     "text": [
      "hello seun\n",
      "how is it like in nigeria\n"
     ]
    }
   ],
   "source": [
    "#Keyword Argument\n",
    "\n",
    "def greet_with(name, location):\n",
    "    print(f\"hello {name}\")\n",
    "    print(f\"how is it like in {location}\")\n",
    "\n",
    "greet_with(location = \"nigeria\", name = \"seun\") #using the parameter = when calling the function enable us to still correct use o fthe function even when the argument are not arrange like the parameter.\n"
   ]
  },
  {
   "cell_type": "code",
   "execution_count": 11,
   "metadata": {},
   "outputs": [
    {
     "name": "stdout",
     "output_type": "stream",
     "text": [
      "your love score is 74\n"
     ]
    }
   ],
   "source": [
    "\"\"\" Love Calculator\n",
    "💪 This is a difficult challenge! 💪 \n",
    "\n",
    "You are going to write a function called calculate_love_score() that tests the compatibility between two names.  \n",
    "To work out the love score between two people: \n",
    "1. Take both people's names and check for the number of times the letters in the word TRUE occurs.   \n",
    "2. Then check for the number of times the letters in the word LOVE occurs.   \n",
    "3. Then combine these numbers to make a 2 digit number and print it out. \n",
    "\n",
    "e.g.\n",
    "name1 = \"Angela Yu\" name2 = \"Jack Bauer\"\n",
    "\n",
    "T occurs 0 times \n",
    "R occurs 1 time \n",
    "U occurs 2 times \n",
    "E occurs 2 times \n",
    "\n",
    "Total = 5 \n",
    "\n",
    "L occurs 1 time \n",
    "O occurs 0 times \n",
    "V occurs 0 times \n",
    "E occurs 2 times \n",
    "\n",
    "Total = 3 \n",
    "Love Score = 53\n",
    "\n",
    "Example Input \n",
    "calculate_love_score(\"Kanye West\", \"Kim Kardashian\")\n",
    "\n",
    "Example Output\n",
    "42 \"\"\"\n",
    "\n",
    "\n",
    "'''name = \"femei west\"\n",
    "match_count = 0\n",
    "\n",
    "for letter in name:\n",
    "  if letter == \"t\" or letter == \"r\" or letter == \"u\" or letter == \"e\" or letter == \"l\" or letter == \"o\" or letter == \"v\":\n",
    "    match_count += 1\n",
    "\n",
    "print(f\"The number of matching letters ('true' and 'love') in '{name}' is: {match_count}\")\n",
    "\n",
    "'''\n",
    "def love_score(text1,text2, letter):\n",
    "\n",
    "    text_true_count = 0\n",
    "    text_love_count = 0\n",
    "\n",
    "    i = 0\n",
    "    text_comb = text1 + text2\n",
    "    while i < len(text_comb):\n",
    "        if text_comb[i] in \"true\":\n",
    "            text_true_count += 1\n",
    "        i += 1\n",
    "\n",
    "    z = 0\n",
    "    while z < len(text_comb):\n",
    "        if text_comb[z] in \"love\":\n",
    "            text_love_count += 1\n",
    "        z += 1\n",
    "\n",
    "    print(f\"your love score is {text_true_count}{text_love_count}\")\n",
    "    \n",
    "love_score(text1 = \"akande seun\", text2 = \"akande murewa\",letter = \"true love\" )"
   ]
  },
  {
   "cell_type": "code",
   "execution_count": 13,
   "metadata": {},
   "outputs": [
    {
     "name": "stdout",
     "output_type": "stream",
     "text": [
      "86\n"
     ]
    }
   ],
   "source": [
    "\n",
    "def calculate_love_score(name1, name2):\n",
    "    combined_names = name1 + name2\n",
    "    lower_names = combined_names.lower()\n",
    "    \n",
    "    t = lower_names.count(\"t\")\n",
    "    r = lower_names.count(\"r\")\n",
    "    u = lower_names.count(\"u\")\n",
    "    e = lower_names.count(\"e\")\n",
    "    first_digit = t + r + u + e\n",
    "    \n",
    "    l = lower_names.count(\"l\")\n",
    "    o = lower_names.count(\"o\")\n",
    "    v = lower_names.count(\"v\")\n",
    "    e = lower_names.count(\"e\")\n",
    "    second_digit = l + o + v + e\n",
    "    \n",
    "    \n",
    "    score = int(str(first_digit) + str(second_digit))\n",
    "    print(score)\n",
    "    \n",
    "calculate_love_score(\"akande seun\", \"akande oluwamurewa\")"
   ]
  },
  {
   "cell_type": "code",
   "execution_count": 18,
   "metadata": {},
   "outputs": [
    {
     "ename": "ValueError",
     "evalue": "' ' is not in list",
     "output_type": "error",
     "traceback": [
      "\u001b[1;31m---------------------------------------------------------------------------\u001b[0m",
      "\u001b[1;31mValueError\u001b[0m                                Traceback (most recent call last)",
      "Cell \u001b[1;32mIn[18], line 21\u001b[0m\n\u001b[0;32m     18\u001b[0m         cypher_text \u001b[38;5;241m+\u001b[39m\u001b[38;5;241m=\u001b[39m alphabet[shifted_position]\n\u001b[0;32m     19\u001b[0m     \u001b[38;5;28mprint\u001b[39m(\u001b[38;5;124mf\u001b[39m\u001b[38;5;124m\"\u001b[39m\u001b[38;5;124mHere is the encoded message: \u001b[39m\u001b[38;5;132;01m{\u001b[39;00mcypher_text\u001b[38;5;132;01m}\u001b[39;00m\u001b[38;5;124m \u001b[39m\u001b[38;5;124m\"\u001b[39m)\n\u001b[1;32m---> 21\u001b[0m \u001b[43mencrypt\u001b[49m\u001b[43m(\u001b[49m\u001b[43moriginal_text\u001b[49m\u001b[43m \u001b[49m\u001b[38;5;241;43m=\u001b[39;49m\u001b[43m \u001b[49m\u001b[43mtext\u001b[49m\u001b[43m,\u001b[49m\u001b[43m \u001b[49m\u001b[43mshift_amount\u001b[49m\u001b[43m \u001b[49m\u001b[38;5;241;43m=\u001b[39;49m\u001b[43m \u001b[49m\u001b[43mshift\u001b[49m\u001b[43m)\u001b[49m\n\u001b[0;32m     23\u001b[0m \u001b[38;5;66;03m# TODO-4: What happens if you try to shift z forwards by 9? Can you fix the code?\u001b[39;00m\n\u001b[0;32m     24\u001b[0m \n\u001b[0;32m     25\u001b[0m \u001b[38;5;66;03m# TODO-3: Call the 'encrypt()' function and pass in the user inputs. You should be able to test the code and encrypt a\u001b[39;00m\n\u001b[0;32m     26\u001b[0m \u001b[38;5;66;03m#  message.\u001b[39;00m\n",
      "Cell \u001b[1;32mIn[18], line 16\u001b[0m, in \u001b[0;36mencrypt\u001b[1;34m(original_text, shift_amount)\u001b[0m\n\u001b[0;32m     14\u001b[0m cypher_text \u001b[38;5;241m=\u001b[39m \u001b[38;5;124m\"\u001b[39m\u001b[38;5;124m\"\u001b[39m\n\u001b[0;32m     15\u001b[0m \u001b[38;5;28;01mfor\u001b[39;00m letter \u001b[38;5;129;01min\u001b[39;00m original_text:\n\u001b[1;32m---> 16\u001b[0m     shifted_position \u001b[38;5;241m=\u001b[39m \u001b[43malphabet\u001b[49m\u001b[38;5;241;43m.\u001b[39;49m\u001b[43mindex\u001b[49m\u001b[43m(\u001b[49m\u001b[43mletter\u001b[49m\u001b[43m)\u001b[49m \u001b[38;5;241m+\u001b[39m shift_amount\n\u001b[0;32m     17\u001b[0m     shifted_position  \u001b[38;5;241m%\u001b[39m\u001b[38;5;241m=\u001b[39m \u001b[38;5;28mlen\u001b[39m(alphabet)\n\u001b[0;32m     18\u001b[0m     cypher_text \u001b[38;5;241m+\u001b[39m\u001b[38;5;241m=\u001b[39m alphabet[shifted_position]\n",
      "\u001b[1;31mValueError\u001b[0m: ' ' is not in list"
     ]
    }
   ],
   "source": [
    "#Cypher encoding and decode\n",
    "\n",
    "alphabet = ['a', 'b', 'c', 'd', 'e', 'f', 'g', 'h', 'i', 'j', 'k', 'l', 'm', 'n', 'o', 'p', 'q', 'r', 's', 't', 'u', 'v', 'w', 'x', 'y', 'z']\n",
    "\n",
    "direction = input(\"Type 'encode' to encrypt, type 'decode' to decrypt:\\n\").lower()\n",
    "text = input(\"Type your message:\\n\").lower()\n",
    "shift = int(input(\"Type the shift number:\\n\"))\n",
    "\n",
    "\n",
    "# TODO-1: Create a function called 'encrypt()' that takes 'original_text' and 'shift_amount' as 2 inputs.\n",
    "def encrypt(original_text, shift_amount):\n",
    "\n",
    "\n",
    "# TODO-2: Inside the 'encrypt()' function, shift each letter of the 'original_text' forwards in the alphabet\n",
    "#  by the shift amount and print the encrypted text.\n",
    "    cypher_text = \"\"\n",
    "    for letter in original_text:\n",
    "        shifted_position = alphabet.index(letter) + shift_amount\n",
    "        shifted_position  %= len(alphabet)\n",
    "        cypher_text += alphabet[shifted_position]\n",
    "    print(f\"Here is the encoded message: {cypher_text} \")\n",
    "\n",
    "encrypt(original_text = text, shift_amount = shift)\n",
    "\n",
    "# TODO-4: What happens if you try to shift z forwards by 9? Can you fix the code?\n",
    "\n",
    "# TODO-3: Call the 'encrypt()' function and pass in the user inputs. You should be able to test the code and encrypt a\n",
    "#  message."
   ]
  }
 ],
 "metadata": {
  "kernelspec": {
   "display_name": "Python 3",
   "language": "python",
   "name": "python3"
  },
  "language_info": {
   "codemirror_mode": {
    "name": "ipython",
    "version": 3
   },
   "file_extension": ".py",
   "mimetype": "text/x-python",
   "name": "python",
   "nbconvert_exporter": "python",
   "pygments_lexer": "ipython3",
   "version": "3.13.1"
  }
 },
 "nbformat": 4,
 "nbformat_minor": 2
}
