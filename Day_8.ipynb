{
 "cells": [
  {
   "cell_type": "markdown",
   "metadata": {},
   "source": [
    "<span style = \"color : orange\">Functions and Input</span>"
   ]
  },
  {
   "cell_type": "code",
   "execution_count": 2,
   "metadata": {},
   "outputs": [
    {
     "name": "stdout",
     "output_type": "stream",
     "text": [
      "Hello\n",
      "how can we be of help today\n",
      "Are satisfied with our service\n"
     ]
    }
   ],
   "source": [
    "#TASK\n",
    "#Create a function called greet().\n",
    "#Write 3 print statements inside the function.\n",
    "#Call the greet() function and run your code.\n",
    "#The function created at this stage is static\n",
    "\n",
    "def greet():\n",
    "    print(\"Hello\")\n",
    "    print(\"how can we be of help today\")\n",
    "    print(\"Are satisfied with our service\")\n",
    "\n",
    "greet()"
   ]
  },
  {
   "cell_type": "code",
   "execution_count": 3,
   "metadata": {},
   "outputs": [
    {
     "name": "stdout",
     "output_type": "stream",
     "text": [
      "Hello temilade\n",
      "how can we be of help today temilade?\n",
      "Are satisfied with our service temilade?\n"
     ]
    }
   ],
   "source": [
    "#The function created at this stage is dynamic by providing an argument to replace the parameter \n",
    "def greet_with_name(name):          #The name (name) is called PARAMETER\n",
    "    print(f\"Hello {name}\")\n",
    "    print(f\"how can we be of help today {name}?\")\n",
    "    print(f\"Are satisfied with our service {name}?\")\n",
    "\n",
    "greet_with_name(\"temilade\")         #The temilade at this stage is called ARGUMENT"
   ]
  },
  {
   "cell_type": "code",
   "execution_count": 13,
   "metadata": {},
   "outputs": [
    {
     "name": "stdout",
     "output_type": "stream",
     "text": [
      "You have 2600 weeks left.\n"
     ]
    }
   ],
   "source": [
    "#function with an input\n",
    "def life_in_weeks(age):\n",
    "    years_remaining = 90 - age\n",
    "    weeks_remaining = years_remaining * 52\n",
    "    print(f\"You have {weeks_remaining} weeks left.\")\n",
    " \n",
    " \n",
    "life_in_weeks(40)"
   ]
  },
  {
   "cell_type": "code",
   "execution_count": 16,
   "metadata": {},
   "outputs": [
    {
     "name": "stdout",
     "output_type": "stream",
     "text": [
      "hello seun\n",
      "how is it like in nigeria\n"
     ]
    }
   ],
   "source": [
    "#function with more than one input\n",
    "def greet_with(name, location):\n",
    "    print(f\"hello {name}\")\n",
    "    print(f\"how is it like in {location}\")\n",
    "\n",
    "greet_with(\"seun\", \"nigeria\")"
   ]
  },
  {
   "cell_type": "code",
   "execution_count": 1,
   "metadata": {},
   "outputs": [
    {
     "name": "stdout",
     "output_type": "stream",
     "text": [
      "hello seun\n",
      "how is it like in nigeria\n"
     ]
    }
   ],
   "source": [
    "#Keyword Argument\n",
    "\n",
    "def greet_with(name, location):\n",
    "    print(f\"hello {name}\")\n",
    "    print(f\"how is it like in {location}\")\n",
    "\n",
    "greet_with(location = \"nigeria\", name = \"seun\") #using the parameter = when calling the function enable us to still correct use o fthe function even when the argument are not arrange like the parameter.\n"
   ]
  },
  {
   "cell_type": "code",
   "execution_count": 3,
   "metadata": {},
   "outputs": [
    {
     "name": "stdout",
     "output_type": "stream",
     "text": [
      "The number of matching letters ('true' and 'love') in 'femei west' is: 4\n"
     ]
    }
   ],
   "source": [
    "\"\"\" Love Calculator\n",
    "💪 This is a difficult challenge! 💪 \n",
    "\n",
    "You are going to write a function called calculate_love_score() that tests the compatibility between two names.  \n",
    "To work out the love score between two people: \n",
    "1. Take both people's names and check for the number of times the letters in the word TRUE occurs.   \n",
    "2. Then check for the number of times the letters in the word LOVE occurs.   \n",
    "3. Then combine these numbers to make a 2 digit number and print it out. \n",
    "\n",
    "e.g.\n",
    "name1 = \"Angela Yu\" name2 = \"Jack Bauer\"\n",
    "\n",
    "T occurs 0 times \n",
    "R occurs 1 time \n",
    "U occurs 2 times \n",
    "E occurs 2 times \n",
    "\n",
    "Total = 5 \n",
    "\n",
    "L occurs 1 time \n",
    "O occurs 0 times \n",
    "V occurs 0 times \n",
    "E occurs 2 times \n",
    "\n",
    "Total = 3 \n",
    "Love Score = 53\n",
    "\n",
    "Example Input \n",
    "calculate_love_score(\"Kanye West\", \"Kim Kardashian\")\n",
    "\n",
    "Example Output\n",
    "42 \"\"\"\n",
    "\n",
    "\n",
    "'''name = \"femei west\"\n",
    "match_count = 0\n",
    "\n",
    "for letter in name:\n",
    "  if letter == \"t\" or letter == \"r\" or letter == \"u\" or letter == \"e\" or letter == \"l\" or letter == \"o\" or letter == \"v\":\n",
    "    match_count += 1\n",
    "\n",
    "print(f\"The number of matching letters ('true' and 'love') in '{name}' is: {match_count}\")\n",
    "\n",
    "'''\n"
   ]
  }
 ],
 "metadata": {
  "kernelspec": {
   "display_name": "Python 3",
   "language": "python",
   "name": "python3"
  },
  "language_info": {
   "codemirror_mode": {
    "name": "ipython",
    "version": 3
   },
   "file_extension": ".py",
   "mimetype": "text/x-python",
   "name": "python",
   "nbconvert_exporter": "python",
   "pygments_lexer": "ipython3",
   "version": "3.13.1"
  }
 },
 "nbformat": 4,
 "nbformat_minor": 2
}
