{
 "cells": [
  {
   "cell_type": "markdown",
   "metadata": {},
   "source": [
    "<span style = \"color : orange\">Functions and Input</span>"
   ]
  },
  {
   "cell_type": "code",
   "execution_count": 2,
   "metadata": {},
   "outputs": [
    {
     "name": "stdout",
     "output_type": "stream",
     "text": [
      "Hello\n",
      "how can we be of help today\n",
      "Are satisfied with our service\n"
     ]
    }
   ],
   "source": [
    "#TASK\n",
    "#Create a function called greet().\n",
    "#Write 3 print statements inside the function.\n",
    "#Call the greet() function and run your code.\n",
    "#The function created at this stage is static\n",
    "\n",
    "def greet():\n",
    "    print(\"Hello\")\n",
    "    print(\"how can we be of help today\")\n",
    "    print(\"Are satisfied with our service\")\n",
    "\n",
    "greet()"
   ]
  },
  {
   "cell_type": "code",
   "execution_count": 3,
   "metadata": {},
   "outputs": [
    {
     "name": "stdout",
     "output_type": "stream",
     "text": [
      "Hello temilade\n",
      "how can we be of help today temilade?\n",
      "Are satisfied with our service temilade?\n"
     ]
    }
   ],
   "source": [
    "#The function created at this stage is dynamic by providing an argument to replace the parameter \n",
    "def greet_with_name(name):          #The name (name) is called PARAMETER\n",
    "    print(f\"Hello {name}\")\n",
    "    print(f\"how can we be of help today {name}?\")\n",
    "    print(f\"Are satisfied with our service {name}?\")\n",
    "\n",
    "greet_with_name(\"temilade\")         #The temilade at this stage is called ARGUMENT"
   ]
  },
  {
   "cell_type": "code",
   "execution_count": 13,
   "metadata": {},
   "outputs": [
    {
     "name": "stdout",
     "output_type": "stream",
     "text": [
      "You have 2600 weeks left.\n"
     ]
    }
   ],
   "source": [
    "#function with an input\n",
    "def life_in_weeks(age):\n",
    "    years_remaining = 90 - age\n",
    "    weeks_remaining = years_remaining * 52\n",
    "    print(f\"You have {weeks_remaining} weeks left.\")\n",
    " \n",
    " \n",
    "life_in_weeks(40)"
   ]
  },
  {
   "cell_type": "code",
   "execution_count": 16,
   "metadata": {},
   "outputs": [
    {
     "name": "stdout",
     "output_type": "stream",
     "text": [
      "hello seun\n",
      "how is it like in nigeria\n"
     ]
    }
   ],
   "source": [
    "#function with more than one input\n",
    "def greet_with(name, location):\n",
    "    print(f\"hello {name}\")\n",
    "    print(f\"how is it like in {location}\")\n",
    "\n",
    "greet_with(\"seun\", \"nigeria\")"
   ]
  },
  {
   "cell_type": "code",
   "execution_count": 1,
   "metadata": {},
   "outputs": [
    {
     "name": "stdout",
     "output_type": "stream",
     "text": [
      "hello seun\n",
      "how is it like in nigeria\n"
     ]
    }
   ],
   "source": [
    "#Keyword Argument\n",
    "\n",
    "def greet_with(name, location):\n",
    "    print(f\"hello {name}\")\n",
    "    print(f\"how is it like in {location}\")\n",
    "\n",
    "greet_with(location = \"nigeria\", name = \"seun\") #using the parameter = when calling the function enable us to still correct use o fthe function even when the argument are not arrange like the parameter.\n"
   ]
  }
 ],
 "metadata": {
  "kernelspec": {
   "display_name": "Python 3",
   "language": "python",
   "name": "python3"
  },
  "language_info": {
   "codemirror_mode": {
    "name": "ipython",
    "version": 3
   },
   "file_extension": ".py",
   "mimetype": "text/x-python",
   "name": "python",
   "nbconvert_exporter": "python",
   "pygments_lexer": "ipython3",
   "version": "3.13.1"
  }
 },
 "nbformat": 4,
 "nbformat_minor": 2
}
