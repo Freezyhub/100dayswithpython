{
 "cells": [
  {
   "cell_type": "markdown",
   "metadata": {},
   "source": [
    "<span style = 'color:blue'> Randomization and python list</span>"
   ]
  },
  {
   "cell_type": "code",
   "execution_count": 85,
   "metadata": {},
   "outputs": [
    {
     "name": "stdout",
     "output_type": "stream",
     "text": [
      "9\n"
     ]
    }
   ],
   "source": [
    "#The module random is use to select random values at set range\n",
    "\n",
    "import random\n",
    "\n",
    "random_number_btw_1_10 = random.randint(1, 10)      #this print random numbers between 1 an 10\n",
    "print(random_number_btw_1_10)"
   ]
  },
  {
   "cell_type": "code",
   "execution_count": 86,
   "metadata": {},
   "outputs": [
    {
     "name": "stdout",
     "output_type": "stream",
     "text": [
      "4.288362481158485\n"
     ]
    }
   ],
   "source": [
    "randomvalue = random.random()*10        #this another form of random but do not take value. it is a float and it can be tweaked by multiplying with another number\n",
    "print(randomvalue)"
   ]
  },
  {
   "cell_type": "markdown",
   "metadata": {},
   "source": [
    "<span style='color:red'> Task who will pay the bill</span>"
   ]
  },
  {
   "cell_type": "code",
   "execution_count": 87,
   "metadata": {},
   "outputs": [
    {
     "name": "stdout",
     "output_type": "stream",
     "text": [
      "akorede\n",
      "temi\n"
     ]
    }
   ],
   "source": [
    "#write a code that will randomly select a friend to pay the bill among the friends in the list\n",
    "friends = [\"seun\",\"temi\",\"bakare\",\"akorede\",\"richard\"]\n",
    "print(random.choice(friends))\n",
    "\n",
    "#or\n",
    "\n",
    "random_index = random.randint(0,4)\n",
    "print(friends[random_index])"
   ]
  },
  {
   "cell_type": "code",
   "execution_count": 1,
   "metadata": {},
   "outputs": [
    {
     "name": "stdout",
     "output_type": "stream",
     "text": [
      "This is world Rock Paper Scissors game\n",
      "What do you choose? type 0 for rock, 1 for paper and 2 for scissors\n",
      "you've selected a wrong option\n"
     ]
    }
   ],
   "source": [
    "#Day 4 rock,paper and scissors game\n",
    "\n",
    "#Rules\n",
    "#\n",
    "import random\n",
    "\n",
    "scissors = r'''\n",
    "   ____\n",
    "  / __ \\\n",
    " ( (__) |___ ___\n",
    "  \\________,'   \"\"\"\"\"----....____\n",
    "   _______<  () dd       ____----'\n",
    "  / __   __`.___-----\"\"\"\"\n",
    " ( (__) |\n",
    "  \\____/ '''\n",
    "\n",
    "paper = r'''\n",
    "     _______\n",
    "---'    ____)____\n",
    "           ______)\n",
    "          _______)\n",
    "         _______)\n",
    "---.__________)\n",
    "'''\n",
    "\n",
    "rock = r'''\n",
    "    _______\n",
    "---'   ____)\n",
    "      (_____)\n",
    "      (_____)\n",
    "      (____)\n",
    "---.__(___)\n",
    "'''\n",
    "\n",
    "print('This is world Rock Paper Scissors game\\nWhat do you choose? '\n",
    "      'type 0 for rock, 1 for paper and 2 for scissors')\n",
    "name = input(\"What is your name:\" )\n",
    "\n",
    "user = int(input('What do you choose? type 0 for rock, 1 for paper and 2 for scissors'))\n",
    "if user == 0:\n",
    "    print(f\"you choose: Rock {rock}\")\n",
    "    valid_choice = True\n",
    "elif user == 1:\n",
    "    print(f\"you choose: Paper {paper}\")\n",
    "    valid_choice = True\n",
    "elif user == 2:\n",
    "    print(f\"you choose: Scissors {scissors}\")\n",
    "    valid_choice = True\n",
    "else:\n",
    "    print(\"you've selected a wrong option\")\n",
    "    valid_choice = False\n",
    "    \n",
    "if valid_choice == True:\n",
    "    game_choice = [rock, paper, scissors]\n",
    "    computer_select = random.choice(game_choice)\n",
    "    print(f'computer choose: {computer_select}')\n",
    "\n",
    "    if user == 0 and computer_select == scissors:\n",
    "        print(f\"{name} wins\")\n",
    "    elif user == 2 and computer_select == rock:\n",
    "        print(\"computer wins\")\n",
    "    elif user == 2 and computer_select == paper:\n",
    "        print(f\"{name} wins\")\n",
    "    elif user == 1 and computer_select == scissors:\n",
    "        print(\"computer wins\")\n",
    "    elif user == 1 and computer_select == rock:\n",
    "        print(f\"{name} wins\")\n",
    "    elif user == 0 and computer_select == paper:\n",
    "        print(\"computer wins\")\n",
    "    else:\n",
    "        print(\"The game is a tie, you can try again\")\n",
    "\n"
   ]
  },
  {
   "cell_type": "code",
   "execution_count": null,
   "metadata": {},
   "outputs": [],
   "source": [
    "#OR\n",
    "\n",
    "#Day 4 rock,paper and scissors game\n",
    "\n",
    "#Rules\n",
    "#\n",
    "import random\n",
    "\n",
    "scissors = r'''\n",
    "   ____\n",
    "  / __ \\\n",
    " ( (__) |___ ___\n",
    "  \\________,'   \"\"\"\"\"----....____\n",
    "   _______<  () dd       ____----'\n",
    "  / __   __`.___-----\"\"\"\"\n",
    " ( (__) |\n",
    "  \\____/ '''\n",
    "\n",
    "paper = r'''\n",
    "     _______\n",
    "---'    ____)____\n",
    "           ______)\n",
    "          _______)\n",
    "         _______)\n",
    "---.__________)\n",
    "'''\n",
    "\n",
    "rock = r'''\n",
    "    _______\n",
    "---'   ____)\n",
    "      (_____)\n",
    "      (_____)\n",
    "      (____)\n",
    "---.__(___)\n",
    "'''\n",
    "\n",
    "game_choice = [rock, paper, scissors]\n",
    "\n",
    "print('This is world Rock Paper Scissors game\\nWhat do you choose? '\n",
    "      'type 0 for rock, 1 for paper and 2 for scissors')\n",
    "name = input(\"What is your name:\" )\n",
    "\n",
    "user = int(input('What do you choose? type 0 for rock, 1 for paper and 2 for scissors'))\n",
    "print(game_choice[user])\n",
    "\n",
    "computer_choice = random.randint(0, 2)\n",
    "print(f'computer choose: {computer_choice}')\n",
    "\n",
    "if user == 0:\n",
    "    print(f\"you choose: Rock {rock}\")\n",
    "    valid_choice = True\n",
    "elif user == 1:\n",
    "    print(f\"you choose: Paper {paper}\")\n",
    "    valid_choice = True\n",
    "elif user == 2:\n",
    "    print(f\"you choose: Scissors {scissors}\")\n",
    "    valid_choice = True\n",
    "else:\n",
    "    print(\"you've selected a wrong option\")\n",
    "    valid_choice = False\n",
    "    \n",
    "if valid_choice == True:\n",
    "    game_choice = [rock, paper, scissors]\n",
    "    computer_select = random.choice(game_choice)\n",
    "    print(f'computer choose: {computer_select}')\n",
    "\n",
    "    if user == 0 and computer_select == scissors:\n",
    "        print(f\"{name} wins\")\n",
    "    elif user == 2 and computer_select == rock:\n",
    "        print(\"computer wins\")\n",
    "    elif user == 2 and computer_select == paper:\n",
    "        print(f\"{name} wins\")\n",
    "    elif user == 1 and computer_select == scissors:\n",
    "        print(\"computer wins\")\n",
    "    elif user == 1 and computer_select == rock:\n",
    "        print(f\"{name} wins\")\n",
    "    elif user == 0 and computer_select == paper:\n",
    "        print(\"computer wins\")\n",
    "    else:\n",
    "        print(\"The game is a tie, you can try again\")"
   ]
  }
 ],
 "metadata": {
  "kernelspec": {
   "display_name": "Python 3",
   "language": "python",
   "name": "python3"
  },
  "language_info": {
   "codemirror_mode": {
    "name": "ipython",
    "version": 3
   },
   "file_extension": ".py",
   "mimetype": "text/x-python",
   "name": "python",
   "nbconvert_exporter": "python",
   "pygments_lexer": "ipython3",
   "version": "3.13.1"
  }
 },
 "nbformat": 4,
 "nbformat_minor": 2
}
