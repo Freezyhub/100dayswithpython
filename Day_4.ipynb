{
 "cells": [
  {
   "cell_type": "markdown",
   "metadata": {},
   "source": [
    "<span style = 'color:blue'> Randomization and python list</span>"
   ]
  },
  {
   "cell_type": "code",
   "execution_count": 18,
   "metadata": {},
   "outputs": [
    {
     "name": "stdout",
     "output_type": "stream",
     "text": [
      "8\n"
     ]
    }
   ],
   "source": [
    "#The module random is use to select random values at set range\n",
    "\n",
    "import random\n",
    "\n",
    "random_number_btw_1_10 = random.randint(1, 10)      #this print random numbers between 1 an 10\n",
    "print(random_number_btw_1_10)"
   ]
  },
  {
   "cell_type": "code",
   "execution_count": 49,
   "metadata": {},
   "outputs": [
    {
     "name": "stdout",
     "output_type": "stream",
     "text": [
      "1.1839190400555777\n"
     ]
    }
   ],
   "source": [
    "randomvalue = random.random()*10        #this another form of random but do not take value. it is a float and it can be tweaked by multiplying with another number\n",
    "print(randomvalue)"
   ]
  },
  {
   "cell_type": "markdown",
   "metadata": {},
   "source": [
    "<span style='color:red'> Task who will pay the bill</span>"
   ]
  },
  {
   "cell_type": "code",
   "execution_count": 84,
   "metadata": {},
   "outputs": [
    {
     "name": "stdout",
     "output_type": "stream",
     "text": [
      "akorede\n",
      "seun\n"
     ]
    }
   ],
   "source": [
    "#write a code that will randomly select a friend to pay the bill among the friends in the list\n",
    "friends = [\"seun\",\"temi\",\"bakare\",\"akorede\",\"richard\"]\n",
    "print(random.choice(friends))\n",
    "\n",
    "#or\n",
    "\n",
    "random_index = random.randint(0,4)\n",
    "print(friends[random_index])"
   ]
  }
 ],
 "metadata": {
  "kernelspec": {
   "display_name": "Python 3",
   "language": "python",
   "name": "python3"
  },
  "language_info": {
   "codemirror_mode": {
    "name": "ipython",
    "version": 3
   },
   "file_extension": ".py",
   "mimetype": "text/x-python",
   "name": "python",
   "nbconvert_exporter": "python",
   "pygments_lexer": "ipython3",
   "version": "3.13.1"
  }
 },
 "nbformat": 4,
 "nbformat_minor": 2
}
