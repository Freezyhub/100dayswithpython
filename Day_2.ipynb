{
 "cells": [
  {
   "cell_type": "markdown",
   "metadata": {},
   "source": [
    "Python primitive data types"
   ]
  },
  {
   "cell_type": "code",
   "execution_count": 2,
   "metadata": {},
   "outputs": [
    {
     "name": "stdout",
     "output_type": "stream",
     "text": [
      "o\n"
     ]
    }
   ],
   "source": [
    "#print particular letter from a word is called subscripting\n",
    "print(\"Hello\"[4])"
   ]
  },
  {
   "cell_type": "code",
   "execution_count": null,
   "metadata": {},
   "outputs": [],
   "source": [
    "#string = \"Oluwaseun\" or \"123\"\n",
    "#int = 123\n",
    "#float = 345.25435 decimal numbers\n",
    "#boolean = True or False the T and F start with capital\n"
   ]
  },
  {
   "cell_type": "code",
   "execution_count": 6,
   "metadata": {},
   "outputs": [
    {
     "name": "stdout",
     "output_type": "stream",
     "text": [
      "<class 'str'>\n"
     ]
    }
   ],
   "source": [
    "#Converting data types\n",
    "#string can be converted to integer\n",
    "\n",
    "\n",
    "#integer can be converted to String\n",
    "print(type(str(123)))\n",
    "\n",
    "#string cannot be concatenate with integer and vise versa\n"
   ]
  },
  {
   "cell_type": "code",
   "execution_count": 10,
   "metadata": {},
   "outputs": [
    {
     "name": "stdout",
     "output_type": "stream",
     "text": [
      "30.85399449035813\n",
      "30\n",
      "31\n",
      "30.85\n"
     ]
    }
   ],
   "source": [
    "#calculate the BMI\n",
    "height = 1.65 \n",
    "weight = 84\n",
    "\n",
    "# Calculate the bmi using weight and height\n",
    "#height is in meters and weight is in kg\n",
    "# the height is converted using the square of the value\n",
    "bmi = weight/(height**2)\n",
    "\n",
    "print(bmi) # the value here is float because of decimal\n",
    "#it can be converted to whole number by converting\n",
    "# to int() or by using Round function\n",
    "\n",
    "print(int(bmi)) #this is basically remove the numbers after the decimal, this process is called floating\n",
    "\n",
    "print(round(bmi)) #this round up the value unlike the previous floating method that just remove the numbers after decimal\n",
    "\n",
    "print (round(bmi, 2)) #the round function allows to specify number of digit to round up"
   ]
  },
  {
   "cell_type": "code",
   "execution_count": 26,
   "metadata": {},
   "outputs": [
    {
     "name": "stdout",
     "output_type": "stream",
     "text": [
      "This platform allows you to calulate you BMI\n",
      "Measure your height in meters\n",
      "My height is:\n",
      "1.95\n",
      "Measure your weight in kg\n",
      "My weight is:\n",
      "83.0\n",
      "Your BMI is: \n",
      "21.83\n"
     ]
    }
   ],
   "source": [
    "#to make this BMI user friendly\n",
    "\n",
    "print(\"This platform allows you to calulate you BMI\\nMeasure your height in meters\\nMy height is:\")\n",
    "height = float(input(\"My height is : \"))\n",
    "print(height)\n",
    "print(\"Measure your weight in kg\\nMy weight is:\")\n",
    "weight = float(input(\"My weight is: \"))\n",
    "print(weight)\n",
    "bmi = weight/height**2\n",
    "print(\"Your BMI is: \")\n",
    "print(round(bmi, 2))\n"
   ]
  },
  {
   "cell_type": "code",
   "execution_count": 31,
   "metadata": {},
   "outputs": [
    {
     "name": "stdout",
     "output_type": "stream",
     "text": [
      "This platform allows you to calulate you BMI\n",
      "Measure your height in meters\n",
      "My height is: 1.45\n",
      "Measure your weight in kg\n",
      "My weight is: 85.0\n",
      "Your BMI is : 40.43\n"
     ]
    }
   ],
   "source": [
    "#to make this BMI user friendly with the use of f-string\n",
    "\n",
    "print(\"This platform allows you to calulate you BMI\\nMeasure your height in meters\")\n",
    "height = float(input(\"My height is : \"))\n",
    "print(f\"My height is: {height}\")\n",
    "print(\"Measure your weight in kg\")\n",
    "weight = float(input(\"My weight is: \"))\n",
    "print(f\"My weight is: {weight}\")\n",
    "bmi = round((weight/height**2), 2)\n",
    "print(f\"Your BMI is : {bmi}\")"
   ]
  }
 ],
 "metadata": {
  "kernelspec": {
   "display_name": "Python 3",
   "language": "python",
   "name": "python3"
  },
  "language_info": {
   "codemirror_mode": {
    "name": "ipython",
    "version": 3
   },
   "file_extension": ".py",
   "mimetype": "text/x-python",
   "name": "python",
   "nbconvert_exporter": "python",
   "pygments_lexer": "ipython3",
   "version": "3.13.1"
  }
 },
 "nbformat": 4,
 "nbformat_minor": 2
}
